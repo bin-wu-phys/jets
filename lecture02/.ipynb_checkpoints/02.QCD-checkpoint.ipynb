{
 "cells": [
  {
   "cell_type": "markdown",
   "metadata": {},
   "source": [
    "# QCD and jets"
   ]
  },
  {
   "cell_type": "markdown",
   "metadata": {},
   "source": [
    "Jet physics is QCD physics."
   ]
  },
  {
   "cell_type": "markdown",
   "metadata": {},
   "source": [
    "## Recap of QCD"
   ]
  },
  {
   "cell_type": "markdown",
   "metadata": {},
   "source": [
    "$\\mathcal{L}=-\\frac{1}{4}F^a_{\\mu\\nu}F^{a\\mu]nu}+\\bar{q}(iD_\\mu\\gamma^\\mu-m)q$ with $D_\\mu=\\partial_\\mu-ig A_\\mu$ and $F_{\\mu\\nu}=\\partial_\\mu A_\\nu \\partial_\\nu A_\\mu-ig[A_\\mu,A_\\nu]$. When a non-physical gauge is used, there will be additional gauge-fixing terms from quantization."
   ]
  },
  {
   "cell_type": "markdown",
   "metadata": {},
   "source": [
    "### Running coupling"
   ]
  },
  {
   "cell_type": "markdown",
   "metadata": {},
   "source": [
    "$$\n",
    "\\frac{d\\alpha_s(\\mu)}{d\\log\\mu}=\\beta(\\alpha_s(\\mu)),~~~\\beta(\\alpha_s) = -2\\alpha_s \\sum_{n=0}^{\\infty}\\beta_n \\left( \\frac{\\alpha_s}{4\\pi} \\right)^{n+1}\n",
    "$$\n",
    "with\n",
    "$$\n",
    "\\beta_0\\equiv \\frac{11}{3}C_A-\\frac{2}{3}n_f,\\qquad\\beta_1=\\frac{34}{3} C_A^2-\\frac{10}{3}C_A n_f-2 C_F n_f.\n",
    "$$\n",
    "\n",
    "Perturbative QCD tells us how $\\alpha_s(Q)$ varies with $Q$, but its absolute value has to be\n",
    "obtained from experiment. Nowadays we usually choose as the fundamental parameter\n",
    "the value of the coupling at $Q = M_Z$, which is simply a convenient reference scale large\n",
    "enough to be in the perturbative domain.\n",
    "\n",
    "[One most recent update](https://pos.sissa.it/365/001):\n",
    "<img align=\"center\" style=\"padding-right:10px;\" width=\"500px\" src=\"alphas.png\">"
   ]
  },
  {
   "cell_type": "markdown",
   "metadata": {},
   "source": [
    "### The Lambda parameter:\n",
    "\n",
    "It is useful to to express $α_s(Q)$ directly in terms of a dimensionful parameter $\\Lambda$:\n",
    "$$\n",
    "\\log\\frac{Q^2}{\\Lambda^2}=-\\int_{\\alpha_s(Q)}^\\infty\\frac{d\\mu}{\\beta(\\alpha_s(\\mu))}\n",
    "$$\n",
    "That is, $\\alpha_s(Q)\\to \\infty$ as $Q\\to \\Lambda$. This, however, only signals the breaking down of perturbation theory. It sets the scale of **nonperturbative physics**. It is not a surprise that $\\Lambda\\approx 200$ MeV = 1 fm$^{-1}$ although its exact value depends on the renormalization scheme when $\\beta$ is calculated up to high orders in $\\alpha_s$."
   ]
  },
  {
   "cell_type": "markdown",
   "metadata": {},
   "source": [
    "### Hadronization:\n",
    "\n",
    "$\\Lambda$ sets the momentum scale for hadronization, that is, the process of partons converting into hardons. The detailed description of this process has not been done in QCD first principles but there are phenomenological models, which will not be the topic of this course.\n",
    "\n"
   ]
  },
  {
   "cell_type": "code",
   "execution_count": null,
   "metadata": {},
   "outputs": [],
   "source": []
  }
 ],
 "metadata": {
  "kernelspec": {
   "display_name": "Python 3",
   "language": "python",
   "name": "python3"
  },
  "language_info": {
   "codemirror_mode": {
    "name": "ipython",
    "version": 3
   },
   "file_extension": ".py",
   "mimetype": "text/x-python",
   "name": "python",
   "nbconvert_exporter": "python",
   "pygments_lexer": "ipython3",
   "version": "3.7.3"
  }
 },
 "nbformat": 4,
 "nbformat_minor": 2
}
