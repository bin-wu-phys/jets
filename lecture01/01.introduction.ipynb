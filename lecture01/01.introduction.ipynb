{
 "cells": [
  {
   "cell_type": "markdown",
   "metadata": {},
   "source": [
    "# Lecture 1: Introduction to QCD jets"
   ]
  },
  {
   "cell_type": "markdown",
   "metadata": {},
   "source": [
    "## QCD jets"
   ]
  },
  {
   "cell_type": "markdown",
   "metadata": {},
   "source": [
    "**Jets** are collimated sprays of hadrons. A jet is typically initiated by a high $p_T$ parton (quark or gluon), produced in some hard process. It, then, radiates and produces a collimated parton shower. Eventually, it hadronizes, turning into the hadrons observed in the detector. In this sense, QCD jets are as close as we can get to experimentally see quarks and gluons.\n",
    "\n",
    "**A jet definition** is needed to be introduced to tell us\n",
    "1. **a jet algorithm:** *how to group \"particles\" into a jet;*\n",
    "2. **a recombination scheme:** *how to assign a momentum to the resulting jet.*\n",
    "\n",
    "A suitable jet definition can be applied to \n",
    " - **experimental measurements:** *hadrons, calorimeter towers, particle flow objects*\n",
    " - **partonic calculations:** *up to corrections due to hadronization $\n",
    " \\sim O(\\Lambda_{QCD}/E_{jet})$*\n",
    " - **parton-showering Monte Carlos:** *Pythia, Herwig, etc.*\n",
    "\n"
   ]
  },
  {
   "cell_type": "markdown",
   "metadata": {},
   "source": [
    "## A renaissance in jet physics"
   ]
  },
  {
   "cell_type": "markdown",
   "metadata": {},
   "source": [
    "Measured jets at the LHC can have different origins:\n",
    "- **The inclusive jet spectrum:** *$2\\to2$ scattering of partons* \n",
    "<img align=\"center\" style=\"padding-right:10px;\" width=\"500px\" src=\"dijet.png\">\n",
    "\n",
    "\n",
    "- **The hadronic decay of a heavy particle:** *$t$, $H^0$, $W^\\pm$, $Z^0$, heavy BSM partilces?*\n",
    "<img align=\"center\" style=\"padding-right:10px;\" width=\"600px\" src=\"pptoHttb.jpg\">\n",
    "\n",
    "\n",
    "- **A single jet from a highly booosted particle:** *$H^0$, $W^\\pm$, $Z^0$, heavy BSM partilces?*\n",
    "<img align=\"center\" style=\"padding-right:10px;\" width=\"600px\" src=\"jetsubstructure.png\">\n",
    "<center>It motivates the study of jet substructure!</center>\n"
   ]
  },
  {
   "cell_type": "markdown",
   "metadata": {},
   "source": [
    "## The coordinate system for hadron colliders"
   ]
  },
  {
   "cell_type": "markdown",
   "metadata": {},
   "source": [
    "<img align=\"center\" style=\"padding-right:10px;\" width=\"500px\" src=\"coordinate.png\">"
   ]
  },
  {
   "cell_type": "markdown",
   "metadata": {},
   "source": [
    "The centre of the coordinate system is located at the nominal collision point inside of the detector. Its $xy$-plane is oriented perpendicular to the beam, with the $x$ axis pointing towards the centre of the LHC and the $y$-axis pointing upward. When using a cylindrical representation of the coordinates, the azimuthal angle 𝜙 and the radial coordinate are defined in the $xy$-plane, with 𝜙 measured in reference to the $x$-axis. The z-axis is oriented in the direction of the beam and the polar angle 𝜃 is measured in reference to this axis.\n",
    "\n",
    "The transverse momentum of a particle is calculated from the x and y components of the recorded data and is defined as 𝑝T=𝑝2𝑥+𝑝2𝑦‾‾‾‾‾‾‾√\n",
    ". Another commonly used observable is pseudorapidity, which is invariant under Lorentz transformation for particles with large momenta (|𝑝|≫𝑚) and is defined as 𝜂=−𝑙𝑛[𝑡𝑎𝑛(𝜃/2)]. With this, the four-vector of a particle can be expressed through a combination of (𝐸,𝑝T,𝜂,𝜙), as well as (𝐸,𝑝x,𝑝y,𝑝z)."
   ]
  },
  {
   "cell_type": "markdown",
   "metadata": {},
   "source": [
    "The coordinate system adopted by CMS and ATLAS has the origin centered at the nominal collision point inside the detector, the $y$-axis pointing vertically upward, and the $x$-axis pointing radially inward toward the center of the LHC. Accordingly, the $z$-axis points along the beam direction. The azimuthal angle φ is measured from the $x$-axis in the $x$-$y$ plane and the radial coordinate in this plane is denoted by $r$. The polar angle θ is measured from the $z$-axis."
   ]
  },
  {
   "cell_type": "markdown",
   "metadata": {},
   "source": [
    "Four momentum $p^\\mu = (E, p_x, p_y, p_z)$ with $p^2=m^2$. The transverse momentum $p_T=\\sqrt{p_x^2+p_y^2}$. Rapidity is defined as $y=\\frac{1}{2}\\log\\left(\\frac{E+p_z}{E-p_z}\\right)$. Accordingly, we have $p^\\mu=(m_T\\cosh y, p_T\\cos\\phi, p_T\\sin\\phi, m_T\\sinh y)$ with $m_T = \\sqrt{p_T^2 + m^2}$.\n",
    "\n",
    "One can define a distance between two particles in the $(y, \\phi)$ plane: $\\Delta R_{12}=\\sqrt{\\Delta y_{12}+\\Delta\\phi_{12}}$. $\\Delta R_{12}$ is invariant under a Lorentz boost along the $z$-direction.\n",
    "\n",
    "In an experimental context, one often makes use of the pseudo-rapidity $\\eta$ in stead of $y$: $\\eta \\equiv\\frac{1}{2}\\log\\left(\\frac{|\\vec{p}|+p_z}{|\\vec{p}|-p_z}\\right)=-\\log\\left(\\tan\\frac{\\theta}{2}\\right)$. $\\eta=y$ for massless particles. It is common to present the position of final-state particles of LHC events using the variables $(\\eta, \\theta)$."
   ]
  },
  {
   "cell_type": "code",
   "execution_count": 1,
   "metadata": {},
   "outputs": [],
   "source": [
    "import numpy as np"
   ]
  },
  {
   "cell_type": "code",
   "execution_count": 6,
   "metadata": {},
   "outputs": [
    {
     "data": {
      "text/plain": [
       "array([90.        , 84.27994754, 78.61648329, 73.06344344, 67.6694787 ,\n",
       "       62.47619161, 57.51698495, 40.39506258, 15.41462681,  5.70047087,\n",
       "        2.09858297])"
      ]
     },
     "execution_count": 6,
     "metadata": {},
     "output_type": "execute_result"
    }
   ],
   "source": [
    "eta=np.array([0, 0.1, 0.2, 0.3, 0.4, 0.5, 0.6, 1, 2, 3, 4])\n",
    "thetas=np.arccos((np.exp(2*eta)-1)/(np.exp(2*eta)+1))*180/np.pi\n",
    "thetas"
   ]
  },
  {
   "cell_type": "code",
   "execution_count": 8,
   "metadata": {},
   "outputs": [
    {
     "data": {
      "text/plain": [
       "array([ 0.        ,  5.72005246, 11.38351671, 16.93655656, 22.3305213 ,\n",
       "       27.52380839, 32.48301505, 49.60493742, 74.58537319, 84.29952913,\n",
       "       87.90141703])"
      ]
     },
     "execution_count": 8,
     "metadata": {},
     "output_type": "execute_result"
    }
   ],
   "source": [
    "90-thetas"
   ]
  },
  {
   "cell_type": "markdown",
   "metadata": {},
   "source": [
    "At $\\sqrt{s}=13$ TeV, the total cross section for pp collisions is about 110 mb  and the inelastic cross section is about 80 mb [[1712.06153]](https://arxiv.org/abs/1712.06153). The growth of the cross section is quite mild, asymptotically proportional to $\\ln^2 s$. Here, $s$ is  the  square  of  the  centre-of-mass  energy  of  the  collision."
   ]
  },
  {
   "cell_type": "code",
   "execution_count": 1,
   "metadata": {},
   "outputs": [
    {
     "data": {
      "text/plain": [
       "82.5"
      ]
     },
     "execution_count": 1,
     "metadata": {},
     "output_type": "execute_result"
    }
   ],
   "source": [
    "110*0.75"
   ]
  },
  {
   "cell_type": "code",
   "execution_count": 3,
   "metadata": {},
   "outputs": [
    {
     "data": {
      "text/plain": [
       "23.876104167282428"
      ]
     },
     "execution_count": 3,
     "metadata": {},
     "output_type": "execute_result"
    }
   ],
   "source": [
    "3.8*2*np.pi"
   ]
  },
  {
   "cell_type": "code",
   "execution_count": null,
   "metadata": {},
   "outputs": [],
   "source": []
  }
 ],
 "metadata": {
  "kernelspec": {
   "display_name": "Python 3",
   "language": "python",
   "name": "python3"
  },
  "language_info": {
   "codemirror_mode": {
    "name": "ipython",
    "version": 3
   },
   "file_extension": ".py",
   "mimetype": "text/x-python",
   "name": "python",
   "nbconvert_exporter": "python",
   "pygments_lexer": "ipython3",
   "version": "3.7.3"
  }
 },
 "nbformat": 4,
 "nbformat_minor": 5
}
